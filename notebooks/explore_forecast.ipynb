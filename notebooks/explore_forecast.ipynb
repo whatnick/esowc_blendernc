{
 "cells": [
  {
   "cell_type": "code",
   "execution_count": null,
   "source": [
    "import xarray as xr"
   ],
   "outputs": [],
   "metadata": {}
  },
  {
   "cell_type": "code",
   "execution_count": null,
   "source": [
    "ds = "
   ],
   "outputs": [],
   "metadata": {}
  }
 ],
 "metadata": {
  "orig_nbformat": 4,
  "language_info": {
   "name": "python",
   "version": "3.8.8"
  },
  "kernelspec": {
   "name": "python3",
   "display_name": "Python 3.8.8 64-bit (conda)"
  },
  "interpreter": {
   "hash": "55ae43be5f7729369a45d9a488b3593965ff4945b7d2c573a1d697bef7d3814d"
  }
 },
 "nbformat": 4,
 "nbformat_minor": 2
}